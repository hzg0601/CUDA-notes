{
 "cells": [
  {
   "cell_type": "markdown",
   "id": "geographic-swift",
   "metadata": {},
   "source": [
    "# CUDA编程模型---运行库  \n",
    "CUDA为开发人员提供了多种库，每一类库针对某一特定领域的应用"
   ]
  },
  {
   "cell_type": "markdown",
   "id": "alpine-messaging",
   "metadata": {},
   "source": [
    "#### 1.cuBLAS  \n",
    "cuBLAS 库是基于 NVIDIA®CUDA™ 运行时的 BLAS（基本线性代数子程序）的实现。它允许用户访问 NVIDIA GPU 的计算资源。\n"
   ]
  },
  {
   "cell_type": "markdown",
   "id": "becoming-ground",
   "metadata": {},
   "source": [
    "在[cublas_gemm.cu](cublas_gemm.cu)中使用```cublasDgemm()```函数，如果遇到麻烦，请参考[result3.cu](result3.cu)"
   ]
  },
  {
   "cell_type": "markdown",
   "id": "impossible-sugar",
   "metadata": {},
   "source": [
    "修改Makefile文件，这里需要将```$(CC)  $(TEST_SOURCE) -o  $(TARGETBIN)``` 修改为```$(CC)  $(TEST_SOURCE) -lcublas -o  $(TARGETBIN)```  \n",
    "\n",
    "编译，并执行程序"
   ]
  },
  {
   "cell_type": "code",
   "execution_count": null,
   "id": "elder-running",
   "metadata": {},
   "outputs": [],
   "source": [
    "!make"
   ]
  },
  {
   "cell_type": "code",
   "execution_count": null,
   "id": "solar-thomson",
   "metadata": {},
   "outputs": [],
   "source": [
    "!./cublas_gemm"
   ]
  },
  {
   "cell_type": "markdown",
   "id": "previous-funds",
   "metadata": {},
   "source": [
    "利用nvprof查看程序性能"
   ]
  },
  {
   "cell_type": "code",
   "execution_count": null,
   "id": "fallen-command",
   "metadata": {},
   "outputs": [],
   "source": [
    "!sudo /usr/local/cuda/bin/nvprof ./cublas_gemm"
   ]
  },
  {
   "cell_type": "markdown",
   "id": "approximate-liechtenstein",
   "metadata": {},
   "source": [
    "#### 2.cuFFT  \n",
    "cuFFT，即 NVIDIA® CUDA® 快速傅立叶变换 (FFT) 库。 它由两个独立的库组成：cuFFT 和 cuFFTW。 cuFFT库旨在在 NVIDIA GPU 上提供高性能。 cuFFTW库作为移植工具提供，使 FFTW 用户能够以最少的努力开始使用 NVIDIA GPU。\n",
    "\n",
    "在Image-denoising-using-CUFFT中我们提供了一个图像降噪的实例，供各位参考。本实例参考了：http://www.sciencedirect.com/science/article/pii/S1877050917317209"
   ]
  },
  {
   "cell_type": "code",
   "execution_count": null,
   "id": "binary-preview",
   "metadata": {},
   "outputs": [],
   "source": [
    "!./Image-denoising-using-CUFFT/convolution"
   ]
  },
  {
   "cell_type": "markdown",
   "id": "written-penalty",
   "metadata": {},
   "source": [
    "课后作业：\n",
    "1. 尝试调用cublas做矩阵乘法和向量加法操作，跟之前自己写的程序对比，查看性能差距，并分析可能改进的地方？\n",
    "2. 如果本地文件存储着2个1000000*1000000的矩阵，我们想将这两个矩阵进行乘积，如何操作？"
   ]
  },
  {
   "cell_type": "code",
   "execution_count": null,
   "id": "rocky-prescription",
   "metadata": {},
   "outputs": [],
   "source": []
  }
 ],
 "metadata": {
  "kernelspec": {
   "display_name": "Python 3",
   "language": "python",
   "name": "python3"
  },
  "language_info": {
   "codemirror_mode": {
    "name": "ipython",
    "version": 3
   },
   "file_extension": ".py",
   "mimetype": "text/x-python",
   "name": "python",
   "nbconvert_exporter": "python",
   "pygments_lexer": "ipython3",
   "version": "3.6.9"
  }
 },
 "nbformat": 4,
 "nbformat_minor": 5
}
