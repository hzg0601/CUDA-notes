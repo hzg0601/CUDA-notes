{
 "cells": [
  {
   "cell_type": "markdown",
   "id": "tested-funeral",
   "metadata": {},
   "source": [
    "# CUDA编程模型---初识CUDA"
   ]
  },
  {
   "cell_type": "markdown",
   "id": "unusual-prerequisite",
   "metadata": {},
   "source": [
    "### 本次实验将介绍如何：\n",
    "1. 编写第一个Cuda程序\n",
    "2. 利用NVCC进行编译\n",
    "3. 编写Makefile文件\n",
    "4. 利用nvprof查看程序性能"
   ]
  },
  {
   "cell_type": "markdown",
   "id": "italian-uncle",
   "metadata": {},
   "source": [
    "#### 1.编写第一个Cuda程序\n",
    "- 关键词：\"\\_\\_global\\_\\_\" ,  <<<...>>>  ,  .cu\n"
   ]
  },
  {
   "cell_type": "markdown",
   "id": "industrial-bathroom",
   "metadata": {},
   "source": [
    "在当前的目录下创建一个名为hello_cuda.cu的文件，编写第一个Cuda程序：\n",
    "- 当我们编写一个hello_word程序的时候，我们通常会这样写："
   ]
  },
  {
   "cell_type": "markdown",
   "id": "sudden-consensus",
   "metadata": {},
   "source": [
    "    #include <stdio.h>\n",
    "\n",
    "    void hello_from_cpu()\n",
    "    {\n",
    "        printf(\"Hello World from the CPU!\\n\");\n",
    "    }\n",
    "\n",
    "    int main(void)\n",
    "    {\n",
    "        hello_from_cpu();\n",
    "        return 0;\n",
    "    }"
   ]
  },
  {
   "cell_type": "markdown",
   "id": "another-entrepreneur",
   "metadata": {},
   "source": [
    "- 如果我们要把它改成调用GPU的时候，我们需要在void hello_from_cpu()之前加入 \\_\\_global\\_\\_标识符，并且在调用这个函数的时候添加<<<...>>>来设定执行设置\n",
    "- 在当前的目录下创建一个名为[hello_cuda.cu](hello_cuda.cu)的文件，更改上述程序，将它改为在GPU上执行的程序，如果遇到麻烦，请参考[hello_cuda02.cu](hello_cuda02.cu)"
   ]
  },
  {
   "cell_type": "markdown",
   "id": "dressed-marker",
   "metadata": {},
   "source": [
    "#### 2.编写完成之后，我们要开始编译并执行程序，在这里我们可以利用nvcc进行编译，指令如下："
   ]
  },
  {
   "cell_type": "code",
   "execution_count": 2,
   "id": "future-channels",
   "metadata": {},
   "outputs": [
    {
     "name": "stdout",
     "output_type": "stream",
     "text": [
      "Hello World from the GPU!\n"
     ]
    }
   ],
   "source": [
    "!/usr/local/cuda/bin/nvcc -arch=compute_53 -code=sm_53 hello_cuda.cu -o hello_cuda -run"
   ]
  },
  {
   "cell_type": "markdown",
   "id": "widespread-tension",
   "metadata": {},
   "source": [
    "#### 3.这里我们也可以利用编写Makefile的方式来进行编译，一个简单的例子可以参考[Makefile](Makefile)"
   ]
  },
  {
   "cell_type": "code",
   "execution_count": 4,
   "id": "disturbed-values",
   "metadata": {},
   "outputs": [
    {
     "name": "stdout",
     "output_type": "stream",
     "text": [
      "/usr/local/cuda/bin/nvcc  hello_cuda.cu -o ./hello_cuda\n"
     ]
    }
   ],
   "source": [
    "!make"
   ]
  },
  {
   "cell_type": "markdown",
   "id": "significant-trance",
   "metadata": {},
   "source": [
    "然后我们就可以得到一个名为hello_cuda.exe的程序，我们开始执行一下"
   ]
  },
  {
   "cell_type": "code",
   "execution_count": 5,
   "id": "conditional-reward",
   "metadata": {},
   "outputs": [
    {
     "name": "stdout",
     "output_type": "stream",
     "text": [
      "Hello World from the GPU!\n"
     ]
    }
   ],
   "source": [
    "!./hello_cuda"
   ]
  },
  {
   "cell_type": "markdown",
   "id": "ordinary-burke",
   "metadata": {},
   "source": [
    "这时，您已经完成了第一个Cuda程序，接下来修改<<<...>>>里面的信息，查看显示效果，如果遇到麻烦，请参考[hello_cuda03.cu](hello_cuda03.cu)"
   ]
  },
  {
   "cell_type": "markdown",
   "id": "disturbed-lyric",
   "metadata": {},
   "source": [
    "#### 4.利用nvprof进行查看程序性能"
   ]
  },
  {
   "cell_type": "code",
   "execution_count": 6,
   "id": "scheduled-secret",
   "metadata": {},
   "outputs": [
    {
     "name": "stdout",
     "output_type": "stream",
     "text": [
      "==18294== NVPROF is profiling process 18294, command: ./hello_cuda\n",
      "==18294== Warning: Unified Memory Profiling is not supported on the underlying platform. System requirements for unified memory can be found at: http://docs.nvidia.com/cuda/cuda-c-programming-guide/index.html#um-requirements\n",
      "Hello World from the GPU!\n",
      "==18294== Profiling application: ./hello_cuda\n",
      "==18294== Profiling result:\n",
      "   Start  Duration  Name\n",
      "163.07ms  3.2300us  cuDeviceGetCount\n",
      "163.08ms  1.4070us  cuDeviceGetCount\n",
      "163.13ms  1.9270us  cuDeviceGet\n",
      "163.13ms  13.490us  cuDeviceGetAttribute\n",
      "163.16ms  1.4580us  cuDeviceGetAttribute\n",
      "163.16ms  1.1450us  cuDeviceGetAttribute\n",
      "163.29ms  1.8750us  cuDeviceGetCount\n",
      "163.30ms  1.3020us  cuDeviceGet\n",
      "163.30ms  2.1350us  cuDeviceGetName\n",
      "163.30ms  10.157us  cuDeviceTotalMem\n",
      "163.31ms  1.1460us  cuDeviceGetAttribute\n",
      "163.32ms     834ns  cuDeviceGetAttribute\n",
      "163.32ms     781ns  cuDeviceGetAttribute\n",
      "163.32ms     937ns  cuDeviceGetAttribute\n",
      "163.32ms     782ns  cuDeviceGetAttribute\n",
      "163.32ms  1.9270us  cuDeviceGetAttribute\n",
      "163.32ms     833ns  cuDeviceGetAttribute\n",
      "163.33ms     782ns  cuDeviceGetAttribute\n",
      "163.33ms     781ns  cuDeviceGetAttribute\n",
      "163.33ms     677ns  cuDeviceGetAttribute\n",
      "163.33ms     782ns  cuDeviceGetAttribute\n",
      "163.33ms     729ns  cuDeviceGetAttribute\n",
      "163.33ms     729ns  cuDeviceGetAttribute\n",
      "163.33ms     729ns  cuDeviceGetAttribute\n",
      "163.34ms     729ns  cuDeviceGetAttribute\n",
      "163.34ms     677ns  cuDeviceGetAttribute\n",
      "163.34ms     782ns  cuDeviceGetAttribute\n",
      "163.34ms     625ns  cuDeviceGetAttribute\n",
      "163.34ms     885ns  cuDeviceGetAttribute\n",
      "163.34ms     782ns  cuDeviceGetAttribute\n",
      "163.34ms     729ns  cuDeviceGetAttribute\n",
      "163.34ms     833ns  cuDeviceGetAttribute\n",
      "163.35ms     729ns  cuDeviceGetAttribute\n",
      "163.35ms     678ns  cuDeviceGetAttribute\n",
      "163.35ms     730ns  cuDeviceGetAttribute\n",
      "163.35ms     677ns  cuDeviceGetAttribute\n",
      "163.35ms     677ns  cuDeviceGetAttribute\n",
      "163.35ms     677ns  cuDeviceGetAttribute\n",
      "163.35ms     677ns  cuDeviceGetAttribute\n",
      "163.36ms     834ns  cuDeviceGetAttribute\n",
      "163.36ms     677ns  cuDeviceGetAttribute\n",
      "163.36ms     729ns  cuDeviceGetAttribute\n",
      "163.36ms     625ns  cuDeviceGetAttribute\n",
      "163.36ms     729ns  cuDeviceGetAttribute\n",
      "163.36ms     677ns  cuDeviceGetAttribute\n",
      "163.36ms     730ns  cuDeviceGetAttribute\n",
      "163.37ms     677ns  cuDeviceGetAttribute\n",
      "163.37ms     729ns  cuDeviceGetAttribute\n",
      "163.37ms     729ns  cuDeviceGetAttribute\n",
      "163.37ms     677ns  cuDeviceGetAttribute\n",
      "163.37ms     729ns  cuDeviceGetAttribute\n",
      "163.37ms     677ns  cuDeviceGetAttribute\n",
      "163.37ms     729ns  cuDeviceGetAttribute\n",
      "163.37ms     730ns  cuDeviceGetAttribute\n",
      "163.38ms     677ns  cuDeviceGetAttribute\n",
      "163.38ms     729ns  cuDeviceGetAttribute\n",
      "163.38ms     677ns  cuDeviceGetAttribute\n",
      "163.38ms     677ns  cuDeviceGetAttribute\n",
      "163.38ms     729ns  cuDeviceGetAttribute\n",
      "163.38ms     677ns  cuDeviceGetAttribute\n",
      "163.38ms     677ns  cuDeviceGetAttribute\n",
      "163.38ms     989ns  cuDeviceGetAttribute\n",
      "163.39ms     625ns  cuDeviceGetAttribute\n",
      "163.39ms     677ns  cuDeviceGetAttribute\n",
      "163.39ms     730ns  cuDeviceGetAttribute\n",
      "163.39ms  26.094us  cuDeviceGetAttribute\n",
      "163.42ms     885ns  cuDeviceGetAttribute\n",
      "163.42ms     729ns  cuDeviceGetAttribute\n",
      "163.42ms     729ns  cuDeviceGetAttribute\n",
      "163.42ms     781ns  cuDeviceGetAttribute\n",
      "163.42ms     730ns  cuDeviceGetAttribute\n",
      "163.43ms     781ns  cuDeviceGetAttribute\n",
      "163.43ms     833ns  cuDeviceGetAttribute\n",
      "163.43ms     833ns  cuDeviceGetAttribute\n",
      "163.43ms     781ns  cuDeviceGetAttribute\n",
      "163.43ms     729ns  cuDeviceGetAttribute\n",
      "163.43ms     730ns  cuDeviceGetAttribute\n",
      "163.43ms     729ns  cuDeviceGetAttribute\n",
      "163.44ms     677ns  cuDeviceGetAttribute\n",
      "163.44ms     729ns  cuDeviceGetAttribute\n",
      "163.44ms     729ns  cuDeviceGetAttribute\n",
      "163.44ms     730ns  cuDeviceGetAttribute\n",
      "163.44ms     729ns  cuDeviceGetAttribute\n",
      "163.44ms     781ns  cuDeviceGetAttribute\n",
      "163.44ms     781ns  cuDeviceGetAttribute\n",
      "163.44ms     729ns  cuDeviceGetAttribute\n",
      "163.45ms  13.803us  cuDeviceGetAttribute\n",
      "163.46ms     833ns  cuDeviceGetAttribute\n",
      "163.46ms     729ns  cuDeviceGetAttribute\n",
      "163.46ms     782ns  cuDeviceGetAttribute\n",
      "163.47ms     729ns  cuDeviceGetAttribute\n",
      "163.47ms     729ns  cuDeviceGetAttribute\n",
      "163.47ms     729ns  cuDeviceGetAttribute\n",
      "163.47ms     677ns  cuDeviceGetAttribute\n",
      "163.47ms  1.5110us  cuDeviceGetAttribute\n",
      "163.47ms     937ns  cuDeviceGetAttribute\n",
      "163.47ms     729ns  cuDeviceGetAttribute\n",
      "163.48ms     730ns  cuDeviceGetAttribute\n",
      "163.48ms  1.0410us  cuDeviceGetAttribute\n",
      "163.48ms     782ns  cuDeviceGetAttribute\n",
      "163.48ms  1.1450us  cuDeviceGetAttribute\n",
      "163.48ms     678ns  cuDeviceGetAttribute\n",
      "163.48ms     729ns  cuDeviceGetAttribute\n",
      "163.48ms     729ns  cuDeviceGetAttribute\n",
      "163.49ms     990ns  cuDeviceGetUuid\n",
      "163.49ms  331.70ms  cudaLaunchKernel (hello_from_gpu(void) [106])\n",
      "495.20ms  848.88us  cudaDeviceSynchronize\n"
     ]
    }
   ],
   "source": [
    "!sudo /usr/local/cuda/bin/nvprof --print-api-trace ./hello_cuda"
   ]
  },
  {
   "cell_type": "markdown",
   "id": "broken-middle",
   "metadata": {},
   "source": [
    "- Profiling result：是GPU（kernel函数）上运行的时间\n",
    "- API calls：是在cpu上测量的程序调用API的时间"
   ]
  },
  {
   "cell_type": "markdown",
   "id": "monetary-convenience",
   "metadata": {},
   "source": [
    "课后作业：\n",
    "1. 利用Makefile规则，尝试编写批量编译工具，比如：同时编译5个cuda程序。\n",
    "2. 利用Makefile规则，尝试加入链接库，比如：加入cuBLAS库编译cuda程序。\n",
    "3. 阅读Cuda sample code，尝试编写程序得到当前GPU的属性参数等。\n",
    "4. 阅读[nvprof](https://docs.nvidia.com/cuda/profiler-users-guide/index.html#nvprof-overview) 说明文档，了解更多nvprof的使用方法，为后续课程中使用做"
   ]
  }
 ],
 "metadata": {
  "kernelspec": {
   "display_name": "Python 3",
   "language": "python",
   "name": "python3"
  },
  "language_info": {
   "codemirror_mode": {
    "name": "ipython",
    "version": 3
   },
   "file_extension": ".py",
   "mimetype": "text/x-python",
   "name": "python",
   "nbconvert_exporter": "python",
   "pygments_lexer": "ipython3",
   "version": "3.6.9"
  }
 },
 "nbformat": 4,
 "nbformat_minor": 5
}
