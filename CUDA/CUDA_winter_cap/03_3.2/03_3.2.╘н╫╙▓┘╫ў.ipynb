{
 "cells": [
  {
   "cell_type": "markdown",
   "id": "ambient-momentum",
   "metadata": {},
   "source": [
    "# CUDA编程模型--- 原子操作"
   ]
  },
  {
   "cell_type": "markdown",
   "id": "southern-lottery",
   "metadata": {},
   "source": [
    "#### 原子操作\n",
    "原子函数对驻留在全局或共享内存中的一个 32 位或 64 位字执行读-修改-写原子操作。"
   ]
  },
  {
   "cell_type": "markdown",
   "id": "closed-restriction",
   "metadata": {},
   "source": [
    "1. atomicAdd()    \n",
    "reads the 16-bit, 32-bit or 64-bit word old located at the address address in global or shared memory, computes (old + val), and stores the result back to memory at the same address. These three operations are performed in one atomic transaction. The function returns old.\n",
    "\n",
    "\n",
    "2. atomicSub()   \n",
    "reads the 32-bit word old located at the address address in global or shared memory, computes (old - val), and stores the result back to memory at the same address. These three operations are performed in one atomic transaction. The function returns old.  \n",
    "\n",
    "3. atomicExch()  \n",
    "reads the 32-bit or 64-bit word old located at the address address in global or shared memory and stores val back to memory at the same address. These two operations are performed in one atomic transaction. The function returns old.\n",
    "\n",
    "4. atomicMin()  \n",
    "reads the 32-bit or 64-bit word old located at the address address in global or shared memory, computes the minimum of old and val, and stores the result back to memory at the same address. These three operations are performed in one atomic transaction. The function returns old.  \n",
    "The 64-bit version of atomicMin() is only supported by devices of compute capability 3.5 and higher.  \n",
    "\n",
    "5. atomicMax()  \n",
    "reads the 32-bit or 64-bit word old located at the address address in global or shared memory, computes the maximum of old and val, and stores the result back to memory at the same address. These three operations are performed in one atomic transaction. The function returns old.  \n",
    "The 64-bit version of atomicMax() is only supported by devices of compute capability 3.5 and higher.  \n",
    "\n",
    "6. atomicInc()  \n",
    "reads the 32-bit word old located at the address address in global or shared memory, computes ((old >= val) ? 0 : (old+1)), and stores the result back to memory at the same address. These three operations are performed in one atomic transaction. The function returns old.  \n",
    "\n",
    "7. atomicDec()    \n",
    "reads the 32-bit word old located at the address address in global or shared memory, computes (((old == 0) || (old > val)) ? val : (old-1) ), and stores the result back to memory at the same address. These three operations are performed in one atomic transaction. The function returns old.  \n",
    "\n",
    "8. atomicCAS()  \n",
    "reads the 16-bit, 32-bit or 64-bit word old located at the address address in global or shared memory, computes (old == compare ? val : old) , and stores the result back to memory at the same address. These three operations are performed in one atomic transaction. The function returns old (Compare And Swap).  \n",
    "\n",
    "\n",
    "9. atomicAnd()  \n",
    "reads the 32-bit or 64-bit word old located at the address address in global or shared memory, computes (old & val), and stores the result back to memory at the same address. These three operations are performed in one atomic transaction. The function returns old.  \n",
    "The 64-bit version of atomicAnd() is only supported by devices of compute capability 3.5 and higher.\n",
    "\n",
    "10. atomicOr()  \n",
    "reads the 32-bit or 64-bit word old located at the address address in global or shared memory, computes (old | val), and stores the result back to memory at the same address. These three operations are performed in one atomic transaction. The function returns old.\n",
    "The 64-bit version of atomicOr() is only supported by devices of compute capability 3.5 and higher.\n",
    "\n",
    "11. atomicXor()  \n",
    "reads the 32-bit or 64-bit word old located at the address address in global or shared memory, computes (old ^ val), and stores the result back to memory at the same address. These three operations are performed in one atomic transaction. The function returns old.  \n",
    "The 64-bit version of atomicXor() is only supported by devices of compute capability 3.5 and higher."
   ]
  },
  {
   "cell_type": "markdown",
   "id": "silent-repository",
   "metadata": {},
   "source": [
    "![atomic+](atomic.png)"
   ]
  },
  {
   "cell_type": "markdown",
   "id": "velvet-armenia",
   "metadata": {},
   "source": [
    "接下来我们完成下面的一个实例：  \n",
    "给定一个数组A，它好办1000000个int类型的元素，求他所有的元素之和：  \n",
    "输入：A[1000000]  \n",
    "输出：output（A中所有元素之和）  \n",
    "\n",
    "在[sum.cu](sum.cu)中完成上述实例，如果遇到困难，请参考[result.cu](result_sum.cu)\n"
   ]
  },
  {
   "cell_type": "markdown",
   "id": "treated-ending",
   "metadata": {},
   "source": [
    "编译，并执行程序"
   ]
  },
  {
   "cell_type": "code",
   "execution_count": null,
   "id": "nervous-delaware",
   "metadata": {},
   "outputs": [],
   "source": [
    "!make"
   ]
  },
  {
   "cell_type": "code",
   "execution_count": null,
   "id": "indonesian-jerusalem",
   "metadata": {},
   "outputs": [],
   "source": [
    "!./sum"
   ]
  },
  {
   "cell_type": "markdown",
   "id": "serial-crest",
   "metadata": {},
   "source": [
    "利用nvprof测试程序性能"
   ]
  },
  {
   "cell_type": "code",
   "execution_count": null,
   "id": "saved-sense",
   "metadata": {},
   "outputs": [],
   "source": [
    "!sudo /usr/local/cuda/bin/nvprof ./sum"
   ]
  },
  {
   "cell_type": "markdown",
   "id": "bigger-buddy",
   "metadata": {},
   "source": [
    "课后作业：\n",
    "1. 给定数组A[1000000]找出其中最大的值和最小的值\n",
    "2. 给定数组A[1000000]找出其中最大的十个值"
   ]
  }
 ],
 "metadata": {
  "kernelspec": {
   "display_name": "Python 3",
   "language": "python",
   "name": "python3"
  },
  "language_info": {
   "codemirror_mode": {
    "name": "ipython",
    "version": 3
   },
   "file_extension": ".py",
   "mimetype": "text/x-python",
   "name": "python",
   "nbconvert_exporter": "python",
   "pygments_lexer": "ipython3",
   "version": "3.6.9"
  }
 },
 "nbformat": 4,
 "nbformat_minor": 5
}
